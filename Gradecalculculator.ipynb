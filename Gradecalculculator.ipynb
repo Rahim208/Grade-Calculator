{
 "cells": [
  {
   "cell_type": "code",
   "execution_count": 2,
   "id": "d8538702-555e-4527-9264-fd8e4a5a734c",
   "metadata": {},
   "outputs": [
    {
     "name": "stdout",
     "output_type": "stream",
     "text": [
      "Welcome to Grade Calculator\n",
      "\n",
      "Enter your marks for the following subjects:\n"
     ]
    },
    {
     "name": "stdin",
     "output_type": "stream",
     "text": [
      "English:  90\n",
      "Science:  85.2\n",
      "Maths:  68.9\n",
      "History:  85.4\n",
      "Computer:  93.2\n"
     ]
    },
    {
     "name": "stdout",
     "output_type": "stream",
     "text": [
      "\n",
      "Your Total Marks: 422.70000000000005/500\n",
      "Your Percentage: 84.54%\n",
      "Your Grade: A\n"
     ]
    },
    {
     "name": "stdin",
     "output_type": "stream",
     "text": [
      "\n",
      "Do you want to calculate again? (y/n):  y\n"
     ]
    },
    {
     "name": "stdout",
     "output_type": "stream",
     "text": [
      "\n",
      "Enter your marks for the following subjects:\n"
     ]
    },
    {
     "name": "stdin",
     "output_type": "stream",
     "text": [
      "English:  70\n",
      "Science:  65\n",
      "Maths:  65.5\n",
      "History:  85.9\n",
      "Computer:  89.8\n"
     ]
    },
    {
     "name": "stdout",
     "output_type": "stream",
     "text": [
      "\n",
      "Your Total Marks: 376.2/500\n",
      "Your Percentage: 75.24%\n",
      "Your Grade: B\n"
     ]
    },
    {
     "name": "stdin",
     "output_type": "stream",
     "text": [
      "\n",
      "Do you want to calculate again? (y/n):  n\n"
     ]
    },
    {
     "name": "stdout",
     "output_type": "stream",
     "text": [
      "Thank you for using the Grade Calculator!\n"
     ]
    }
   ],
   "source": [
    "print(\"Welcome to Grade Calculator\")\n",
    "\n",
    "def get_marks():\n",
    "    print(\"\\nEnter your marks for the following subjects:\")\n",
    "    english=float(input(\"English: \"))\n",
    "    science=float(input(\"Science: \"))\n",
    "    maths=float(input(\"Maths: \"))\n",
    "    history=float(input(\"History: \"))\n",
    "    computer=float(input(\"Computer: \"))\n",
    "\n",
    "    if not(0 <= english <= 100 and 0 <=science <= 100  and 0 <= maths <= 100 and 0 <= history <= 100 and 0 <= computer <= 100):\n",
    "        print(\"Marks should be between 0 and 100. Please enter valid marks!\")\n",
    "        return None\n",
    "    return english, science, maths, history, computer\n",
    "\n",
    "def calculate_percentage(total):\n",
    "    return (total / 500) * 100\n",
    "\n",
    "def determine_grade(percentage):\n",
    "    if percentage >=90:\n",
    "        return \"A+\"\n",
    "    elif percentage >=80:\n",
    "        return \"A\"\n",
    "    elif percentage >=70:\n",
    "        return \"B\"\n",
    "    elif percentage >=60:\n",
    "        return \"C\"                \n",
    "    elif percentage >=50:\n",
    "        return \"D\"\n",
    "    else:\n",
    "        return \"F\"  \n",
    "\n",
    "def main():\n",
    "    while True:\n",
    "        marks=get_marks()\n",
    "        if marks is None:\n",
    "            continue \n",
    "        total = sum(marks)\n",
    "        percentage = calculate_percentage(total)\n",
    "        grade = determine_grade(percentage)\n",
    "\n",
    "        print(f\"\\nYour Total Marks: {total}/500\")\n",
    "        print(f\"Your Percentage: {percentage:.2f}%\")\n",
    "        print(f\"Your Grade: {grade}\")\n",
    "\n",
    "        rerun = input(\"\\nDo you want to calculate again? (y/n): \").lower()\n",
    "        if rerun != \"y\":\n",
    "            print(\"Thank you for using the Grade Calculator!\")\n",
    "            break\n",
    "\n",
    "main()\n",
    "                            \n",
    "        \n",
    "  "
   ]
  },
  {
   "cell_type": "code",
   "execution_count": null,
   "id": "44604570-de09-4454-b553-7a549abdb0d3",
   "metadata": {},
   "outputs": [],
   "source": []
  }
 ],
 "metadata": {
  "kernelspec": {
   "display_name": "Python 3 (ipykernel)",
   "language": "python",
   "name": "python3"
  },
  "language_info": {
   "codemirror_mode": {
    "name": "ipython",
    "version": 3
   },
   "file_extension": ".py",
   "mimetype": "text/x-python",
   "name": "python",
   "nbconvert_exporter": "python",
   "pygments_lexer": "ipython3",
   "version": "3.13.0"
  }
 },
 "nbformat": 4,
 "nbformat_minor": 5
}
